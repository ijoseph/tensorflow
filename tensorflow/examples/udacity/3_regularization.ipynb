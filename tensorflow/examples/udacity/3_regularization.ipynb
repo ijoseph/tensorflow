{
 "cells": [
  {
   "cell_type": "markdown",
   "metadata": {
    "colab_type": "text",
    "id": "kR-4eNdK6lYS"
   },
   "source": [
    "Deep Learning\n",
    "=============\n",
    "\n",
    "Assignment 3\n",
    "------------\n",
    "\n",
    "Previously in `2_fullyconnected.ipynb`, you trained a logistic regression and a neural network model.\n",
    "\n",
    "The goal of this assignment is to explore regularization techniques."
   ]
  },
  {
   "cell_type": "code",
   "execution_count": 1,
   "metadata": {},
   "outputs": [],
   "source": [
    "# %load /home/isajosep/.ipython/standard_imports.py\n",
    "import logging\n",
    "logging.basicConfig(level=logging.INFO)\n",
    "\n",
    "import pandas as pd\n",
    "pd.set_option('display.max_rows', 500)\n",
    "pd.set_option('display.max_columns', 500)\n",
    "pd.set_option('display.width', 1000)\n",
    "\n",
    "import numpy as np\n",
    "\n",
    "import isajosep_util\n",
    "import os\n",
    "\n",
    "#!echo 'import os'  >> /home/isajosep/.ipython/standard_imports.py\n",
    "import matplotlib.pyplot as plt\n",
    "import seaborn as sns\n",
    "import isajosep_util.data_frame_plotter\n",
    "sns.set_palette([v.value for v in isajosep_util.data_frame_plotter.AgilentColors])\n",
    "import tqdm\n"
   ]
  },
  {
   "cell_type": "code",
   "execution_count": 2,
   "metadata": {
    "cellView": "both",
    "colab": {
     "autoexec": {
      "startup": false,
      "wait_interval": 0
     }
    },
    "colab_type": "code",
    "id": "JLpLa8Jt7Vu4"
   },
   "outputs": [],
   "source": [
    "# These are all the modules we'll be using later. Make sure you can import them\n",
    "# before proceeding further.\n",
    "from __future__ import print_function\n",
    "import numpy as np\n",
    "import tensorflow as tf\n",
    "from six.moves import cPickle as pickle"
   ]
  },
  {
   "cell_type": "markdown",
   "metadata": {
    "colab_type": "text",
    "id": "1HrCK6e17WzV"
   },
   "source": [
    "First reload the data we generated in `1_notmnist.ipynb`."
   ]
  },
  {
   "cell_type": "code",
   "execution_count": 3,
   "metadata": {},
   "outputs": [],
   "source": [
    "import os\n",
    "data_root = os.path.join(os.path.expanduser('~'), 'Data/Udacity_Tensorflow')\n",
    "os.chdir(data_root)"
   ]
  },
  {
   "cell_type": "code",
   "execution_count": 4,
   "metadata": {
    "cellView": "both",
    "colab": {
     "autoexec": {
      "startup": false,
      "wait_interval": 0
     },
     "output_extras": [
      {
       "item_id": 1
      }
     ]
    },
    "colab_type": "code",
    "executionInfo": {
     "elapsed": 11777,
     "status": "ok",
     "timestamp": 1449849322348,
     "user": {
      "color": "",
      "displayName": "",
      "isAnonymous": false,
      "isMe": true,
      "permissionId": "",
      "photoUrl": "",
      "sessionId": "0",
      "userId": ""
     },
     "user_tz": 480
    },
    "id": "y3-cj1bpmuxc",
    "outputId": "e03576f1-ebbe-4838-c388-f1777bcc9873"
   },
   "outputs": [
    {
     "name": "stdout",
     "output_type": "stream",
     "text": [
      "Training set (200000, 28, 28) (200000,)\n",
      "Validation set (10000, 28, 28) (10000,)\n",
      "Test set (10000, 28, 28) (10000,)\n"
     ]
    }
   ],
   "source": [
    "pickle_file = 'notMNIST.pickle'\n",
    "\n",
    "with open(pickle_file, 'rb') as f:\n",
    "    save = pickle.load(f)\n",
    "    train_dataset = save['train_dataset']\n",
    "    train_labels = save['train_labels']\n",
    "    valid_dataset = save['valid_dataset']\n",
    "    valid_labels = save['valid_labels']\n",
    "    test_dataset = save['test_dataset']\n",
    "    test_labels = save['test_labels']\n",
    "    del save  # hint to help gc free up memory\n",
    "    print('Training set', train_dataset.shape, train_labels.shape)\n",
    "    print('Validation set', valid_dataset.shape, valid_labels.shape)\n",
    "    print('Test set', test_dataset.shape, test_labels.shape)"
   ]
  },
  {
   "cell_type": "markdown",
   "metadata": {
    "colab_type": "text",
    "id": "L7aHrm6nGDMB"
   },
   "source": [
    "Reformat into a shape that's more adapted to the models we're going to train:\n",
    "- data as a flat matrix,\n",
    "- labels as float 1-hot encodings."
   ]
  },
  {
   "cell_type": "code",
   "execution_count": 5,
   "metadata": {
    "cellView": "both",
    "colab": {
     "autoexec": {
      "startup": false,
      "wait_interval": 0
     },
     "output_extras": [
      {
       "item_id": 1
      }
     ]
    },
    "colab_type": "code",
    "executionInfo": {
     "elapsed": 11728,
     "status": "ok",
     "timestamp": 1449849322356,
     "user": {
      "color": "",
      "displayName": "",
      "isAnonymous": false,
      "isMe": true,
      "permissionId": "",
      "photoUrl": "",
      "sessionId": "0",
      "userId": ""
     },
     "user_tz": 480
    },
    "id": "IRSyYiIIGIzS",
    "outputId": "3f8996ee-3574-4f44-c953-5c8a04636582"
   },
   "outputs": [
    {
     "name": "stdout",
     "output_type": "stream",
     "text": [
      "Training set (200000, 784) (200000, 10)\n",
      "Validation set (10000, 784) (10000, 10)\n",
      "Test set (10000, 784) (10000, 10)\n"
     ]
    }
   ],
   "source": [
    "image_size = 28\n",
    "num_labels = 10\n",
    "\n",
    "\n",
    "def reformat(dataset, labels):\n",
    "    dataset = dataset.reshape((-1, image_size * image_size)).astype(np.float32)\n",
    "    # Map 1 to [0.0, 1.0, 0.0 ...], 2 to [0.0, 0.0, 1.0 ...]\n",
    "    labels = (np.arange(num_labels) == labels[:, None]).astype(np.float32)\n",
    "    return dataset, labels\n",
    "\n",
    "\n",
    "train_dataset, train_labels = reformat(train_dataset, train_labels)\n",
    "valid_dataset, valid_labels = reformat(valid_dataset, valid_labels)\n",
    "test_dataset, test_labels = reformat(test_dataset, test_labels)\n",
    "print('Training set', train_dataset.shape, train_labels.shape)\n",
    "print('Validation set', valid_dataset.shape, valid_labels.shape)\n",
    "print('Test set', test_dataset.shape, test_labels.shape)"
   ]
  },
  {
   "cell_type": "code",
   "execution_count": 6,
   "metadata": {
    "cellView": "both",
    "colab": {
     "autoexec": {
      "startup": false,
      "wait_interval": 0
     }
    },
    "colab_type": "code",
    "id": "RajPLaL_ZW6w"
   },
   "outputs": [],
   "source": [
    "def accuracy(predictions, labels):\n",
    "    return (100.0 * np.sum(np.argmax(predictions, 1) == np.argmax(labels, 1))\n",
    "            / predictions.shape[0])"
   ]
  },
  {
   "cell_type": "markdown",
   "metadata": {
    "colab_type": "text",
    "id": "sgLbUAQ1CW-1"
   },
   "source": [
    "# Problem 1\n",
    "\n",
    "\n",
    "Introduce and tune $L_2$ regularization for both logistic and neural network models. Remember that L2 amounts to adding a penalty on the norm of the weights to the loss. In TensorFlow, you can compute the L2 loss for a tensor `t` using `nn.l2_loss(t)`. The right amount of regularization should improve your validation / test accuracy.\n",
    "\n",
    "---"
   ]
  },
  {
   "cell_type": "code",
   "execution_count": 7,
   "metadata": {},
   "outputs": [
    {
     "name": "stderr",
     "output_type": "stream",
     "text": [
      "WARNING:tensorflow:From <ipython-input-7-775622c993de>:40: softmax_cross_entropy_with_logits (from tensorflow.python.ops.nn_ops) is deprecated and will be removed in a future version.\n",
      "Instructions for updating:\n",
      "\n",
      "Future major versions of TensorFlow will allow gradients to flow\n",
      "into the labels input on backprop by default.\n",
      "\n",
      "See @{tf.nn.softmax_cross_entropy_with_logits_v2}.\n",
      "\n"
     ]
    }
   ],
   "source": [
    "batch_size = 128\n",
    "\n",
    "graph = tf.Graph()\n",
    "with graph.as_default():\n",
    "    # Input data\n",
    "    # For the training data, we use a placeholder that will be fed at run time with a training minibatch.\n",
    "    # train data: rows × columns; placeholder so can do SGD\n",
    "    \n",
    "    tf_train_dataset = tf.placeholder(\n",
    "        tf.float32, shape=(batch_size, image_size * image_size))\n",
    "    tf_train_labels = tf.placeholder(tf.float32, shape=(\n",
    "        batch_size, num_labels))  # train labels: rows × 1\n",
    "\n",
    "    tf_valid_dataset = tf.constant(valid_dataset)  # validation data\n",
    "    tf_test_dataset = tf.constant(test_dataset)\n",
    "\n",
    "    # Variables. (Parameters); initialize.\n",
    "    # not reducing dimensionality, so same number of rows as columns; initialize as normal\n",
    "    weights_layer_one = tf.Variable(tf.truncated_normal(\n",
    "        [image_size * image_size, image_size * image_size]))\n",
    "\n",
    "    # one bias per feature; initialize at zero\n",
    "    biases_layer_one = tf.Variable(tf.zeros([image_size * image_size]))\n",
    "\n",
    "    weights_layer_three = tf.Variable(\n",
    "        tf.truncated_normal([image_size * image_size, num_labels]))\n",
    "    biases_layer_three = tf.Variable(tf.zeros([num_labels]))\n",
    "\n",
    "    # Training computation.\n",
    "    # Network architecture: 1024 RELUs\n",
    "    layer_one_output_tensor = tf.matmul(\n",
    "        tf_train_dataset, weights_layer_one) + biases_layer_one\n",
    "    layer_two_output_tensor = tf.nn.relu(layer_one_output_tensor)\n",
    "    logits = tf.matmul(layer_two_output_tensor,\n",
    "                       weights_layer_three) + biases_layer_three\n",
    "\n",
    "    ########### new this time -- regularization (add to loss, not explicit network structure)\n",
    "    beta_1 = tf.constant([0.001])\n",
    "    beta_2 = tf.constant([0.001])\n",
    "    loss = tf.reduce_mean(tf.nn.softmax_cross_entropy_with_logits(labels=tf_train_labels, logits=logits)) + tf.multiply(beta_1,\n",
    "                                                                                                                        tf.reduce_mean(tf.nn.l2_loss(weights_layer_one))) + tf.multiply(beta_2, tf.reduce_mean(tf.nn.l2_loss(weights_layer_three)))\n",
    "\n",
    "    # Optimizer.\n",
    "    optimizer = tf.train.GradientDescentOptimizer(0.5).minimize(loss)\n",
    "\n",
    "    # Predictions for the training, validation, and test data.\n",
    "    train_prediction = tf.nn.softmax(logits)\n",
    "    valid_prediction = tf.nn.softmax(\n",
    "        tf.matmul(tf.nn.relu(tf.matmul(tf_valid_dataset, weights_layer_one) + biases_layer_one), weights_layer_three) + biases_layer_three)\n",
    "    test_prediction = tf.nn.softmax(\n",
    "        tf.matmul(tf.nn.relu(tf.matmul(tf_test_dataset, weights_layer_one) + biases_layer_one), weights_layer_three) + biases_layer_three)"
   ]
  },
  {
   "cell_type": "code",
   "execution_count": 8,
   "metadata": {},
   "outputs": [
    {
     "name": "stdout",
     "output_type": "stream",
     "text": [
      "Initialized\n"
     ]
    },
    {
     "data": {
      "application/vnd.jupyter.widget-view+json": {
       "model_id": "cbdf2e83df684c2d83139e5bd2f78868",
       "version_major": 2,
       "version_minor": 0
      },
      "text/plain": [
       "HBox(children=(IntProgress(value=0, max=3001), HTML(value='')))"
      ]
     },
     "metadata": {},
     "output_type": "display_data"
    },
    {
     "name": "stdout",
     "output_type": "stream",
     "text": [
      "Minibatch loss at step 0: 544.434692\n",
      "Minibatch accuracy: 7.0%\n",
      "Validation accuracy: 27.0%\n",
      "Minibatch loss at step 500: 150.467453\n",
      "Minibatch accuracy: 78.9%\n",
      "Validation accuracy: 79.8%\n",
      "Minibatch loss at step 1000: 87.873268\n",
      "Minibatch accuracy: 82.0%\n",
      "Validation accuracy: 81.8%\n",
      "Minibatch loss at step 1500: 52.829380\n",
      "Minibatch accuracy: 80.5%\n",
      "Validation accuracy: 82.9%\n",
      "Minibatch loss at step 2000: 31.668684\n",
      "Minibatch accuracy: 84.4%\n",
      "Validation accuracy: 84.7%\n",
      "Minibatch loss at step 2500: 19.738596\n",
      "Minibatch accuracy: 82.8%\n",
      "Validation accuracy: 85.9%\n",
      "Minibatch loss at step 3000: 11.887938\n",
      "Minibatch accuracy: 87.5%\n",
      "Validation accuracy: 87.1%\n",
      "\n",
      "Test accuracy: 93.2%\n"
     ]
    },
    {
     "data": {
      "image/png": "[encoded data removed]",
      "text/plain": [
       "<Figure size 216x216 with 1 Axes>"
      ]
     },
     "metadata": {
      "image/png": {
       "height": 180,
       "width": 185
      }
     },
     "output_type": "display_data"
    }
   ],
   "source": [
    "num_steps = 3001\n",
    "\n",
    "with tf.Session(graph=graph) as session:\n",
    "    tf.global_variables_initializer().run()\n",
    "    print(\"Initialized\")\n",
    "    for step in tqdm.tqdm_notebook(range(num_steps)):\n",
    "        # Pick an offset within the training data, which has been randomized.\n",
    "        # Note: we could use better randomization across epochs.\n",
    "        offset = (step * batch_size) % (train_labels.shape[0] - batch_size)\n",
    "        # Generate a minibatch.\n",
    "        batch_data = train_dataset[offset:(offset + batch_size), :]\n",
    "        batch_labels = train_labels[offset:(offset + batch_size), :]\n",
    "        # Prepare a dictionary telling the session where to feed the minibatch.\n",
    "        # The key of the dictionary is the placeholder node of the graph to be fed,\n",
    "        # and the value is the numpy array to feed to it.\n",
    "        feed_dict = {tf_train_dataset: batch_data,\n",
    "                     tf_train_labels: batch_labels}\n",
    "        _, l, predictions = session.run(\n",
    "            [optimizer, loss, train_prediction], feed_dict=feed_dict)\n",
    "        if (step % 500 == 0):\n",
    "            print(\"Minibatch loss at step %d: %f\" % (step, l))\n",
    "            print(\"Minibatch accuracy: %.1f%%\" %\n",
    "                  accuracy(predictions, batch_labels))\n",
    "            print(\"Validation accuracy: %.1f%%\" % accuracy(\n",
    "                valid_prediction.eval(), valid_labels))\n",
    "    print(\"Test accuracy: %.1f%%\" % accuracy(\n",
    "        test_prediction.eval(), test_labels))     \n",
    "    isajosep_util.plot_pie_percent(accuracy(         test_prediction.eval(), test_labels))    \n",
    "    "
   ]
  },
  {
   "cell_type": "markdown",
   "metadata": {},
   "source": [
    "Good when loss is about half of the total error produced by the function ($600$ vs $250$)"
   ]
  },
  {
   "cell_type": "markdown",
   "metadata": {},
   "source": [
    "Wow, even better test accuracy.... "
   ]
  },
  {
   "cell_type": "markdown",
   "metadata": {
    "colab_type": "text",
    "id": "na8xX2yHZzNF"
   },
   "source": [
    "# Problem 2\n",
    "\n",
    "---\n",
    "---------\n",
    "Let's demonstrate an extreme case of overfitting. Restrict your training data to just a few batches. What happens?\n",
    "\n",
    "---"
   ]
  },
  {
   "cell_type": "code",
   "execution_count": 35,
   "metadata": {},
   "outputs": [
    {
     "name": "stdout",
     "output_type": "stream",
     "text": [
      "max number of batches: 199,872\n"
     ]
    }
   ],
   "source": [
    "max_num_batches = (train_labels.shape[0] - batch_size) \n",
    "print(\"max number of batches: {:,}\".format(max_num_batches))"
   ]
  },
  {
   "cell_type": "code",
   "execution_count": 9,
   "metadata": {},
   "outputs": [
    {
     "name": "stdout",
     "output_type": "stream",
     "text": [
      "Initialized\n"
     ]
    },
    {
     "data": {
      "application/vnd.jupyter.widget-view+json": {
       "model_id": "74c3877bca1c45e0a6fb11d234d0e2e9",
       "version_major": 2,
       "version_minor": 0
      },
      "text/plain": [
       "HBox(children=(IntProgress(value=0, max=3001), HTML(value='')))"
      ]
     },
     "metadata": {},
     "output_type": "display_data"
    },
    {
     "name": "stdout",
     "output_type": "stream",
     "text": [
      "Minibatch loss at step 0: 540.464722\n",
      "Minibatch accuracy: 8.6%\n",
      "Validation accuracy: 34.1%\n",
      "Minibatch loss at step 500: 145.988586\n",
      "Minibatch accuracy: 100.0%\n",
      "Validation accuracy: 61.0%\n",
      "Minibatch loss at step 1000: 88.535477\n",
      "Minibatch accuracy: 100.0%\n",
      "Validation accuracy: 61.1%\n",
      "Minibatch loss at step 1500: 53.692772\n",
      "Minibatch accuracy: 100.0%\n",
      "Validation accuracy: 61.1%\n",
      "Minibatch loss at step 2000: 32.562252\n",
      "Minibatch accuracy: 100.0%\n",
      "Validation accuracy: 61.3%\n",
      "Minibatch loss at step 2500: 19.747561\n",
      "Minibatch accuracy: 100.0%\n",
      "Validation accuracy: 61.6%\n",
      "Minibatch loss at step 3000: 11.976156\n",
      "Minibatch accuracy: 100.0%\n",
      "Validation accuracy: 62.0%\n",
      "\n",
      "Test accuracy: 68.2%\n"
     ]
    },
    {
     "data": {
      "image/png": "[encoded data removed]",
      "text/plain": [
       "<Figure size 216x216 with 1 Axes>"
      ]
     },
     "metadata": {
      "image/png": {
       "height": 180,
       "width": 185
      }
     },
     "output_type": "display_data"
    }
   ],
   "source": [
    "num_steps = 3001\n",
    "batch_size = 128\n",
    "num_batches = 1\n",
    "\n",
    "with tf.Session(graph=graph) as session:\n",
    "    tf.global_variables_initializer().run()\n",
    "    print(\"Initialized\")\n",
    "    for step in tqdm.tqdm_notebook(range(num_steps)):\n",
    "        # Pick an offset within the training data, which has been randomized.\n",
    "        # Note: we could use better randomization across epochs.\n",
    "        # changed -- now only three batches\n",
    "        offset = (step * batch_size) % num_batches\n",
    "        \n",
    "        # Generate a minibatch.\n",
    "        batch_data = train_dataset[offset:(offset + batch_size), :]\n",
    "        batch_labels = train_labels[offset:(offset + batch_size), :]\n",
    "        \n",
    "        # Prepare a dictionary telling the session where to feed the minibatch.\n",
    "        # The key of the dictionary is the placeholder node of the graph to be fed,\n",
    "        # and the value is the numpy array to feed to it.\n",
    "        # tf_train_dataset is a tf.placeholder-created Tensor, whereas train_dataset is the actual np.array of training data. \n",
    "        # thus, batch_data and batch_labels are subsets of this np.array. \n",
    "        feed_dict = {tf_train_dataset: batch_data,\n",
    "                     tf_train_labels: batch_labels}\n",
    "\n",
    "\n",
    "        _, l, predictions = session.run(\n",
    "            [optimizer, loss, train_prediction], feed_dict=feed_dict)\n",
    "        \n",
    "        if (step % 500 == 0):\n",
    "            print(\"Minibatch loss at step %d: %f\" % (step, l))\n",
    "            print(\"Minibatch accuracy: %.1f%%\" %\n",
    "                  accuracy(predictions, batch_labels))\n",
    "            print(\"Validation accuracy: %.1f%%\" % accuracy(\n",
    "                valid_prediction.eval(), valid_labels))\n",
    "    print(\"Test accuracy: %.1f%%\" % accuracy(\n",
    "        test_prediction.eval(), test_labels))     \n",
    "    isajosep_util.plot_pie_percent(accuracy(test_prediction.eval(), test_labels))"
   ]
  },
  {
   "cell_type": "markdown",
   "metadata": {},
   "source": [
    "Hm, interesting. It's still able to reduce its loss by reducing the norm of the weight matrices $\\mathbf{W}$, but it's not able to make a significant impact on its validation accuracy in that manner, as it's only using one batch of size 128. "
   ]
  },
  {
   "cell_type": "markdown",
   "metadata": {
    "colab_type": "text",
    "id": "ww3SCBUdlkRc"
   },
   "source": [
    "# Problem 3\n",
    "\n",
    "---\n",
    "\n",
    "---------\n",
    "Introduce Dropout on the hidden layer of the neural network. Remember: Dropout should only be introduced during training, not evaluation, otherwise your evaluation results would be stochastic as well. TensorFlow provides `nn.dropout()` for that, but you have to make sure it's only inserted during training.\n",
    "\n",
    "What happens to our extreme overfitting case?\n",
    "\n",
    "---"
   ]
  },
  {
   "cell_type": "markdown",
   "metadata": {},
   "source": [
    "## Graph"
   ]
  },
  {
   "cell_type": "markdown",
   "metadata": {},
   "source": [
    "Hm, do I do this in the `tf.Session` or in the `tf.Graph`? `tf.Graph .`"
   ]
  },
  {
   "cell_type": "code",
   "execution_count": 18,
   "metadata": {},
   "outputs": [],
   "source": [
    "batch_size = 128\n",
    "dropout_keep_prob = 0.3\n",
    "\n",
    "dropout_graph = tf.Graph()\n",
    "with dropout_graph.as_default():\n",
    "    # Input data\n",
    "    # For the training data, we use a placeholder that will be fed at run time with a training minibatch.\n",
    "    # train data: rows × columns; placeholder so can do SGD\n",
    "    tf_train_dataset = tf.placeholder(\n",
    "        tf.float32, shape=(batch_size, image_size * image_size))\n",
    "    tf_train_labels = tf.placeholder(tf.float32, shape=(\n",
    "        batch_size, num_labels))  # train labels: rows × 1\n",
    "\n",
    "    tf_valid_dataset = tf.constant(valid_dataset)  # validation data\n",
    "    tf_test_dataset = tf.constant(test_dataset)\n",
    "\n",
    "    # Variables. (Parameters); initialize.\n",
    "    # not reducing dimensionality, so same number of rows as columns; initialize as normal\n",
    "    weights_layer_one = tf.Variable(tf.truncated_normal(\n",
    "        [image_size * image_size, image_size * image_size]))\n",
    "    # one bias per feature; initialize at zero\n",
    "    biases_layer_one = tf.Variable(tf.zeros([image_size * image_size]))\n",
    "\n",
    "    weights_layer_three = tf.Variable(\n",
    "        tf.truncated_normal([image_size * image_size, num_labels]))\n",
    "    biases_layer_three = tf.Variable(tf.zeros([num_labels]))\n",
    "\n",
    "    # Training computation.\n",
    "    # Network architecture: 1024 RELUs\n",
    "    layer_one_output_tensor = tf.matmul(\n",
    "        tf_train_dataset, weights_layer_one) + biases_layer_one\n",
    "    \n",
    "    # additional dropout layer\n",
    "    layer_two_output_tensor = tf.nn.relu(tf.nn.dropout(layer_one_output_tensor, keep_prob=dropout_keep_prob))\n",
    "\n",
    "    logits = tf.matmul(layer_two_output_tensor,\n",
    "                       weights_layer_three) + biases_layer_three\n",
    "\n",
    "    # new this time -- regularization\n",
    "    beta_1 = tf.constant([0.001])\n",
    "    beta_2 = tf.constant([0.001])\n",
    "    loss = tf.reduce_mean(tf.nn.softmax_cross_entropy_with_logits(labels=tf_train_labels, logits=logits)) + tf.multiply(beta_1,\n",
    "                                                                                                                        tf.reduce_mean(tf.nn.l2_loss(weights_layer_one))) + tf.multiply(beta_2, tf.reduce_mean(tf.nn.l2_loss(weights_layer_three)))\n",
    "\n",
    "    # Optimizer.\n",
    "    optimizer = tf.train.GradientDescentOptimizer(0.5).minimize(loss)\n",
    "\n",
    "    # Predictions for the training, validation, and test data.\n",
    "    train_prediction = tf.nn.softmax(logits)\n",
    "    valid_prediction = tf.nn.softmax(\n",
    "        tf.matmul(tf.nn.relu(tf.matmul(tf_valid_dataset, weights_layer_one) + biases_layer_one), weights_layer_three) + biases_layer_three)\n",
    "    test_prediction = tf.nn.softmax(\n",
    "        tf.matmul(tf.nn.relu(tf.matmul(tf_test_dataset, weights_layer_one) + biases_layer_one), weights_layer_three) + biases_layer_three)"
   ]
  },
  {
   "cell_type": "markdown",
   "metadata": {},
   "source": [
    "## Session"
   ]
  },
  {
   "cell_type": "code",
   "execution_count": 19,
   "metadata": {},
   "outputs": [
    {
     "name": "stdout",
     "output_type": "stream",
     "text": [
      "Initialized\n"
     ]
    },
    {
     "data": {
      "application/vnd.jupyter.widget-view+json": {
       "model_id": "7bb9c4f4349147deb5061e3d4e44ed92",
       "version_major": 2,
       "version_minor": 0
      },
      "text/plain": [
       "HBox(children=(IntProgress(value=0, max=3001), HTML(value='')))"
      ]
     },
     "metadata": {},
     "output_type": "display_data"
    },
    {
     "name": "stdout",
     "output_type": "stream",
     "text": [
      "Minibatch loss at step 0: 811.780396\n",
      "Minibatch accuracy: 13.3%\n",
      "Validation accuracy: 39.2%\n",
      "Minibatch loss at step 500: 171.161636\n",
      "Minibatch accuracy: 62.5%\n",
      "Validation accuracy: 78.3%\n",
      "Minibatch loss at step 1000: 92.902496\n",
      "Minibatch accuracy: 56.2%\n",
      "Validation accuracy: 77.9%\n",
      "Minibatch loss at step 1500: 55.107182\n",
      "Minibatch accuracy: 69.5%\n",
      "Validation accuracy: 79.4%\n",
      "Minibatch loss at step 2000: 32.853439\n",
      "Minibatch accuracy: 77.3%\n",
      "Validation accuracy: 81.3%\n",
      "Minibatch loss at step 2500: 20.508121\n",
      "Minibatch accuracy: 71.9%\n",
      "Validation accuracy: 83.1%\n",
      "Minibatch loss at step 3000: 12.182432\n",
      "Minibatch accuracy: 79.7%\n",
      "Validation accuracy: 83.5%\n",
      "\n",
      "Test accuracy: 90.4%\n"
     ]
    },
    {
     "data": {
      "image/png": "[encoded data removed]",
      "text/plain": [
       "<Figure size 216x216 with 1 Axes>"
      ]
     },
     "metadata": {
      "image/png": {
       "height": 180,
       "width": 185
      }
     },
     "output_type": "display_data"
    }
   ],
   "source": [
    "num_steps = 3001\n",
    "batch_size = 128\n",
    "num_batches = max_num_batches\n",
    "\n",
    "with tf.Session(graph=dropout_graph) as session:\n",
    "    tf.global_variables_initializer().run()\n",
    "    print(\"Initialized\")\n",
    "    for step in tqdm.tqdm_notebook(range(num_steps)):\n",
    "        # Pick an offset within the training data, which has been randomized.\n",
    "        # Note: we could use better randomization across epochs.\n",
    "        offset = (step * batch_size) % num_batches\n",
    "        \n",
    "        # Generate a minibatch.\n",
    "        batch_data = train_dataset[offset:(offset + batch_size), :]\n",
    "        batch_labels = train_labels[offset:(offset + batch_size), :]\n",
    "        \n",
    "        # Prepare a dictionary telling the session where to feed the minibatch.\n",
    "        # The key of the dictionary is the placeholder node of the graph to be fed,\n",
    "        # and the value is the numpy array to feed to it.\n",
    "        # tf_train_dataset is a tf.placeholder-created Tensor, whereas train_dataset is the actual np.array of training data. \n",
    "        # thus, batch_data and batch_labels are subsets of this np.array. \n",
    "        feed_dict = {tf_train_dataset: batch_data,\n",
    "                     tf_train_labels: batch_labels}\n",
    "\n",
    "\n",
    "        _, l, predictions = session.run(\n",
    "            [optimizer, loss, train_prediction], feed_dict=feed_dict)\n",
    "        \n",
    "        if (step % 500 == 0):\n",
    "            print(\"Minibatch loss at step %d: %f\" % (step, l))\n",
    "            print(\"Minibatch accuracy: %.1f%%\" %\n",
    "                  accuracy(predictions, batch_labels))\n",
    "            print(\"Validation accuracy: %.1f%%\" % accuracy(\n",
    "                valid_prediction.eval(), valid_labels))\n",
    "    print(\"Test accuracy: %.1f%%\" % accuracy(\n",
    "        test_prediction.eval(), test_labels))     \n",
    "    isajosep_util.plot_pie_percent(accuracy(         test_prediction.eval(), test_labels))"
   ]
  },
  {
   "cell_type": "markdown",
   "metadata": {},
   "source": [
    "Hm, yes,rescued 2% using 0.7 dropout, 5% using 0.5 dropout, 8% using 0.3 dropout, 2% using 0.1 dropout.  "
   ]
  },
  {
   "cell_type": "markdown",
   "metadata": {
    "colab_type": "text",
    "id": "-b1hTz3VWZjw"
   },
   "source": [
    "# Problem 4\n",
    "---\n",
    "\n",
    "---------\n",
    "\n",
    "Try to get the best performance you can using a multi-layer model! The best reported test accuracy using a deep network is [97.1%](http://yaroslavvb.blogspot.com/2011/09/notmnist-dataset.html?showComment=1391023266211#c8758720086795711595).\n",
    "\n",
    "One avenue you can explore is to add multiple layers.\n",
    "\n",
    "Another one is to use learning rate decay:\n",
    "\n",
    "    global_step = tf.Variable(0)  # count the number of steps taken.\n",
    "    learning_rate = tf.train.exponential_decay(0.5, global_step, ...)\n",
    "    optimizer = tf.train.GradientDescentOptimizer(learning_rate).minimize(loss, global_step=global_step)\n",
    " \n",
    " ---\n"
   ]
  },
  {
   "cell_type": "code",
   "execution_count": 45,
   "metadata": {},
   "outputs": [],
   "source": [
    "batch_size = 128\n",
    "dropout_keep_prob = 0.5\n",
    "learning_rate_init = 0.001\n",
    "decay_steps = 1000\n",
    "decay_rate = 0.5\n",
    "beta_1_value = 1e-3\n",
    "beta_2_value = 1e-3\n",
    "beta_3_value = 1e-3\n",
    "\n",
    "best_possible_graph = tf.Graph()\n",
    "with best_possible_graph.as_default():\n",
    "    # Input data\n",
    "    # For the training data, we use a placeholder that will be fed at run time with a training minibatch.\n",
    "    # train data: rows × columns; placeholder so can do SGD\n",
    "    tf_train_dataset = tf.placeholder(\n",
    "        tf.float32, shape=(batch_size, image_size * image_size))\n",
    "    tf_train_labels = tf.placeholder(tf.float32, shape=(\n",
    "        batch_size, num_labels))  # train labels: rows × 1\n",
    "\n",
    "    tf_valid_dataset = tf.constant(valid_dataset)  # validation data\n",
    "    tf_test_dataset = tf.constant(test_dataset)\n",
    "\n",
    "    ############################## Variables. (Parameters); initialize.\n",
    "    # not reducing dimensionality, so same number of rows as columns; initialize as normal\n",
    "    \n",
    "    # W₁: (number_of_pixels_per_image × number_of_pixels_per_image)\n",
    "    # b₁: (number_of_pixels_per_image × 1)    \n",
    "    weights_layer_one = tf.Variable(tf.truncated_normal(\n",
    "        [image_size * image_size, image_size * image_size]))\n",
    "    # one bias per feature; initialize at zero\n",
    "    biases_layer_one = tf.Variable(tf.zeros([image_size * image_size]))\n",
    "    \n",
    "    # W₂: (number_of_pixels_per_image × number_of_pixels_per_image)\n",
    "    # b₂: (number_of_pixels_per_image × 1)\n",
    "    weights_layer_three = tf.Variable(\n",
    "        tf.truncated_normal([image_size * image_size, image_size * image_size]))\n",
    "    biases_layer_three = tf.Variable(tf.zeros([image_size * image_size]))\n",
    "\n",
    "    # W₃: (number_of_pixels_per_image × num_labels(=10))\n",
    "    # b₃: (num_labels(=10) × 1)\n",
    "    weights_layer_four = tf.Variable(\n",
    "        tf.truncated_normal([image_size * image_size, num_labels]))\n",
    "    biases_layer_four = tf.Variable(tf.zeros([num_labels]))\n",
    "\n",
    "    ############################## Training computation (layer specification using variables above and other methods).\n",
    "\n",
    "    #  layer 1 : (n_train × number_of_pixels_per_image)  → (n_train × number_of_pixels_per_image)\n",
    "    layer_one_output_tensor = tf.matmul(\n",
    "        tf_train_dataset, weights_layer_one) + biases_layer_one \n",
    "\n",
    "    # additional dropout/ RELU layer\n",
    "    # layer 2 : (n_train × number_of_pixels_per_image)  → (n_train × number_of_pixels_per_image)\n",
    "    layer_two_output_tensor = tf.nn.relu(tf.nn.dropout(\n",
    "        layer_one_output_tensor, keep_prob=dropout_keep_prob)) \n",
    "\n",
    "    #  additional regular layer\n",
    "    # layer 3 : (n_train × number_of_pixels_per_image)  → (n_train × number_of_pixels_per_image)\n",
    "    layer_three_output_tensor = tf.matmul(layer_two_output_tensor, weights_layer_three) + biases_layer_three  \n",
    "\n",
    "    # output:  (n_train × number_of_pixels_per_image)  → (n_train × num_labels(=10))\n",
    "    logits = tf.matmul(layer_three_output_tensor,\n",
    "                       weights_layer_four) + biases_layer_four\n",
    "    \n",
    "    ############################## Objective function\n",
    "    # Regularization of *weights*: objective + β₁‖W₁‖₂ + β₂‖W₂‖₂ + β₃‖W₃‖₂\n",
    "    beta_1 = tf.constant([beta_1_value])\n",
    "    beta_2 = tf.constant([beta_2_value])\n",
    "    beta_3 = tf.constant([beta_3_value])\n",
    "    loss = tf.reduce_mean(tf.nn.softmax_cross_entropy_with_logits(labels=tf_train_labels, logits=logits)) + tf.multiply(beta_1,\n",
    "                                                                                                                        tf.reduce_mean(tf.nn.l2_loss(weights_layer_one))) + tf.multiply(beta_2, tf.reduce_mean(tf.nn.l2_loss(weights_layer_three))) + tf.multiply(beta_3, tf.reduce_mean(tf.nn.l2_loss(weights_layer_four)))\n",
    "\n",
    "    ############################## Optimizer\n",
    "    global_step = tf.Variable(0)  # initialize at zero\n",
    "    \n",
    "    learning_rate = tf.train.exponential_decay(learning_rate=learning_rate_init, global_step=global_step, decay_steps=decay_steps,\n",
    "                                               decay_rate=decay_rate, staircase=False)  # a scalar Tensor of the same type as `learning_rate` (in this case, float64)\n",
    "    # Exponential decay: decayed_learning_rate = learning_rate *\n",
    "    #                         decay_rate ^ (global_step / decay_steps)\n",
    "    # if staircase=True, decay steps is how many steps before decay kicks in. Higher value ⇒ lower rate of decay; otherwise, this is done at every step\n",
    "\n",
    "    optimizer = tf.train.GradientDescentOptimizer(learning_rate).minimize(\n",
    "        loss=loss, global_step=global_step)  # will global_step be updated?\n",
    "\n",
    "    # Predictions for the training, validation, and test data.\n",
    "    train_prediction = tf.nn.softmax(logits)\n",
    "    valid_prediction = tf.nn.softmax(tf.matmul((tf.matmul(tf.nn.relu((tf.matmul(tf_valid_dataset, weights_layer_one) + biases_layer_one)), weights_layer_three) + biases_layer_three), weights_layer_four) + biases_layer_four)\n",
    "    test_prediction = tf.nn.softmax(tf.matmul((tf.matmul(tf.nn.relu((tf.matmul(tf_test_dataset, weights_layer_one) + biases_layer_one)), weights_layer_three) + biases_layer_three), weights_layer_four) + biases_layer_four)"
   ]
  },
  {
   "cell_type": "code",
   "execution_count": 46,
   "metadata": {},
   "outputs": [
    {
     "name": "stdout",
     "output_type": "stream",
     "text": [
      "Initialized\n"
     ]
    },
    {
     "data": {
      "application/vnd.jupyter.widget-view+json": {
       "model_id": "4f5e6248228840679d235b68464a0abf",
       "version_major": 2,
       "version_minor": 0
      },
      "text/plain": [
       "HBox(children=(IntProgress(value=0, max=3000), HTML(value='')))"
      ]
     },
     "metadata": {},
     "output_type": "display_data"
    },
    {
     "name": "stdout",
     "output_type": "stream",
     "text": [
      "Minibatch loss at step 0: 11,138.2; Minibatch accuracy: 10.2%; Validation accuracy: 13.9%\n",
      "Minibatch loss at step 500: 1,527.3; Minibatch accuracy: 69.5%; Validation accuracy: 82.0%\n",
      "Minibatch loss at step 1000: 1,028.6; Minibatch accuracy: 75.0%; Validation accuracy: 82.8%\n",
      "Minibatch loss at step 1500: 1,038.0; Minibatch accuracy: 70.3%; Validation accuracy: 83.5%\n",
      "Minibatch loss at step 2000: 845.6; Minibatch accuracy: 78.9%; Validation accuracy: 83.6%\n",
      "Minibatch loss at step 2500: 956.4; Minibatch accuracy: 72.7%; Validation accuracy: 83.7%\n",
      "\n",
      "Test accuracy: 90.3%\n"
     ]
    },
    {
     "data": {
      "image/png": "[encoded data removed]",
      "text/plain": [
       "<Figure size 216x216 with 1 Axes>"
      ]
     },
     "metadata": {
      "image/png": {
       "height": 180,
       "width": 185
      }
     },
     "output_type": "display_data"
    }
   ],
   "source": [
    "num_steps = 3000\n",
    "num_batches = (train_labels.shape[0] - batch_size)  # Max number of possible batches: all possible starting positions in the training set\n",
    "\n",
    "with tf.Session(graph=best_possible_graph) as session:\n",
    "    tf.global_variables_initializer().run()\n",
    "    print(\"Initialized\")\n",
    "    for step in tqdm.tqdm_notebook(range(num_steps)):\n",
    "        # Pick an offset within the training data, which has been randomized.\n",
    "        # Note: we could use better randomization across epochs.\n",
    "        offset = (step * batch_size)  % num_batches \n",
    "        \n",
    "        # Generate a minibatch.\n",
    "        batch_data = train_dataset[offset:(offset + batch_size), :]\n",
    "        batch_labels = train_labels[offset:(offset + batch_size), :]\n",
    "        \n",
    "        # Prepare a dictionary telling the session where to feed the minibatch.\n",
    "        # The key of the dictionary is the placeholder node of the graph to be fed,\n",
    "        # and the value is the numpy array to feed to it.\n",
    "        # tf_train_dataset is a tf.placeholder-created Tensor, whereas train_dataset is the actual np.array of training data. \n",
    "        # thus, batch_data and batch_labels are subsets of this np.array. \n",
    "        feed_dict = {tf_train_dataset: batch_data,\n",
    "                     tf_train_labels: batch_labels}\n",
    "\n",
    "\n",
    "        _, l, predictions = session.run(\n",
    "            [optimizer, loss, train_prediction], feed_dict=feed_dict)\n",
    "        \n",
    "        if (step % 500 == 0):\n",
    "            print(\"Minibatch loss at step {}: {:,.1f}\".format(step, l[0]), end='; ')\n",
    "            print(\"Minibatch accuracy: %.1f%%\" %\n",
    "                  accuracy(predictions, batch_labels), end='; ' )\n",
    "            print(\"Validation accuracy: %.1f%%\" % accuracy(\n",
    "                valid_prediction.eval(), valid_labels))\n",
    "    print(\"Test accuracy: %.1f%%\" % accuracy(\n",
    "        test_prediction.eval(), test_labels))     \n",
    "    isajosep_util.plot_pie_percent(accuracy(test_prediction.eval(), test_labels))"
   ]
  },
  {
   "cell_type": "markdown",
   "metadata": {},
   "source": [
    "Hm, larger batch size doesn't necessarily matter for accuracy after a certain point (has diminishing returns). However, it takes much longer. "
   ]
  },
  {
   "cell_type": "code",
   "execution_count": null,
   "metadata": {},
   "outputs": [],
   "source": []
  }
 ],
 "metadata": {
  "colab": {
   "default_view": {},
   "name": "3_regularization.ipynb",
   "provenance": [],
   "version": "0.3.2",
   "views": {}
  },
  "kernelspec": {
   "display_name": "Python 3",
   "language": "python",
   "name": "python3"
  },
  "language_info": {
   "codemirror_mode": {
    "name": "ipython",
    "version": 3
   },
   "file_extension": ".py",
   "mimetype": "text/x-python",
   "name": "python",
   "nbconvert_exporter": "python",
   "pygments_lexer": "ipython3",
   "version": "3.5.2"
  }
 },
 "nbformat": 4,
 "nbformat_minor": 1
}
